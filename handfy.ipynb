{
 "cells": [
  {
   "cell_type": "code",
   "execution_count": 23,
   "metadata": {},
   "outputs": [],
   "source": [
    "import cv2\n",
    "import mediapipe as mp\n",
    "from google.protobuf.json_format import MessageToDict\n"
   ]
  },
  {
   "cell_type": "code",
   "execution_count": 24,
   "metadata": {},
   "outputs": [],
   "source": [
    "\n",
    "# Initialize the MediaPipe hands model\n",
    "mpHands = mp.solutions.hands\n",
    "hands = mpHands.Hands(\n",
    "    static_image_mode=False,\n",
    "    model_complexity=1,\n",
    "    min_detection_confidence=0.75,\n",
    "    min_tracking_confidence=0.75,\n",
    "    max_num_hands=2)\n"
   ]
  },
  {
   "cell_type": "code",
   "execution_count": 25,
   "metadata": {},
   "outputs": [],
   "source": [
    "\n",
    "# Function to process and display the hands\n",
    "def process_hands(img):\n",
    "    img = cv2.flip(img, 1)\n",
    "    imgRGB = cv2.cvtColor(img, cv2.COLOR_BGR2RGB)\n",
    "    results = hands.process(imgRGB)\n",
    "    return results\n"
   ]
  },
  {
   "cell_type": "code",
   "execution_count": 26,
   "metadata": {},
   "outputs": [],
   "source": [
    "\n",
    "# Function to display text for a single hand\n",
    "def display_hand_label(img, label, x, y):\n",
    "    cv2.putText(img, label, (x, y), cv2.FONT_HERSHEY_COMPLEX, 0.9, (0, 255, 0), 2)\n"
   ]
  },
  {
   "cell_type": "code",
   "execution_count": 27,
   "metadata": {},
   "outputs": [],
   "source": [
    "\n",
    "# Function to display \"No Hands\" when no hands are detected\n",
    "def display_no_hands(img):\n",
    "    cv2.putText(img, 'No Hands', (250, 50), cv2.FONT_HERSHEY_COMPLEX, 0.9, (0, 0, 255), 2)\n"
   ]
  },
  {
   "cell_type": "code",
   "execution_count": 28,
   "metadata": {},
   "outputs": [],
   "source": [
    "\n",
    "# Start capturing video from the webcam (index 0)\n",
    "cap = cv2.VideoCapture(0)\n"
   ]
  },
  {
   "cell_type": "code",
   "execution_count": 29,
   "metadata": {},
   "outputs": [],
   "source": [
    "while True:\n",
    "    success, img = cap.read()\n",
    "    \n",
    "    results = process_hands(img)\n",
    "\n",
    "    if results.multi_hand_landmarks:\n",
    "        if len(results.multi_handedness) == 2:\n",
    "            display_hand_label(img, 'Both Hands', 250, 50)\n",
    "        else:\n",
    "            for i in results.multi_handedness:\n",
    "                label = MessageToDict(i)['classification'][0]['label']\n",
    "                if label == 'Left':\n",
    "                    display_hand_label(img, label + ' Hand', 20, 50)\n",
    "                if label == 'Right':\n",
    "                    display_hand_label(img, label + ' Hand', 460, 50)\n",
    "    else:\n",
    "        display_no_hands(img)\n",
    "\n",
    "    cv2.imshow('Image', img)\n",
    "    if cv2.waitKey(1) & 0xff == ord('q'):\n",
    "        break\n",
    "\n",
    "cap.release()\n",
    "cv2.destroyAllWindows()\n"
   ]
  }
 ],
 "metadata": {
  "kernelspec": {
   "display_name": "Python 3",
   "language": "python",
   "name": "python3"
  },
  "language_info": {
   "codemirror_mode": {
    "name": "ipython",
    "version": 3
   },
   "file_extension": ".py",
   "mimetype": "text/x-python",
   "name": "python",
   "nbconvert_exporter": "python",
   "pygments_lexer": "ipython3",
   "version": "3.10.4"
  }
 },
 "nbformat": 4,
 "nbformat_minor": 2
}
